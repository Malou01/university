{
  "cells": [
    {
      "cell_type": "markdown",
      "metadata": {
        "id": "mw2VBrBcgvGa"
      },
      "source": [
        "###В этом упражнении вы построите нейронную сеть, которая предсказывает цену дома по простой формуле.\n",
        "\n",
        "Представьте себе, что цены на жилье зависят только от количества комнат: дом стоит 500 000 + 500 000 за комнату. то есть дом с 1 спальней стоит 1 000 000, дом с 2 спальнями стоит 1 500 000 и т.д.\n",
        "\n",
        "Как вы создадите нейронную сеть, которая обучается этой зависисмости? проверьте ее, чтобы она предсказывала для дома с 7 спальнями стоимость около 4 млн.\n",
        "\n",
        "**Подсказка**: ваша сеть может работать лучше, если вы *масштабируете* цену так, как это было описано в лекциях. Не нужно давать ответ 4 000 000, лучше создать что-то, что будет предсказывать число 4 и выводить ваш ответ в миллионах."
      ]
    },
    {
      "cell_type": "code",
      "execution_count": null,
      "metadata": {
        "id": "moHyJyr4P0OO"
      },
      "outputs": [],
      "source": [
        "import tensorflow as tf\n",
        "import numpy as np\n",
        "from tensorflow import keras"
      ]
    },
    {
      "cell_type": "code",
      "execution_count": null,
      "metadata": {
        "id": "PUNO2E6SeURH"
      },
      "outputs": [],
      "source": [
        "# GRADED FUNCTION: house_model\n",
        "def house_model(y_new):\n",
        "    def house_model(y_new):\n",
        "    # Входные данные (количество комнат)\n",
        "    xs = np.array([1.0, 2.0, 3.0, 4.0, 5.0, 6.0], dtype=float)\n",
        "    # Выходные данные (цена дома в миллионах)\n",
        "    ys = np.array([1.0, 1.5, 2.0, 2.5, 3.0, 3.5], dtype=float)\n",
        "    \n",
        "    # Создаем модель Sequential (один слой)\n",
        "    model = keras.Sequential([\n",
        "        keras.layers.Dense(units=1, input_shape=[1])  # Один полносвязный слой с одним нейроном\n",
        "    ])\n",
        "    \n",
        "    # Компилируем модель с оптимизатором 'sgd' (стохастический градиентный спуск) и функцией потерь 'mean_squared_error'\n",
        "    model.compile(optimizer='sgd', loss='mean_squared_error')\n",
        "    \n",
        "    # Обучаем модель на данных xs и ys, проводим 500 эпох обучения\n",
        "    model.fit(xs, ys, epochs=500)\n",
        "    \n",
        "    return model.predict(y_new)[0]"
      ]
    },
    {
      "cell_type": "code",
      "execution_count": null,
      "metadata": {
        "id": "LDe5PlKCP0OQ"
      },
      "outputs": [],
      "source": [
        "prediction = house_model([7.0])\n",
        "print(prediction)"
      ]
    }
  ],
  "metadata": {
    "colab": {
      "name": "HousePrices.ipynb",
      "provenance": []
    },
    "coursera": {
      "course_slug": "introduction-tensorflow",
      "graded_item_id": "jRjw8",
      "launcher_item_id": "YoQKl"
    },
    "kernelspec": {
      "display_name": "Python 3",
      "language": "python",
      "name": "python3"
    },
    "language_info": {
      "codemirror_mode": {
        "name": "ipython",
        "version": 3
      },
      "file_extension": ".py",
      "mimetype": "text/x-python",
      "name": "python",
      "nbconvert_exporter": "python",
      "pygments_lexer": "ipython3",
      "version": "3.6.8"
    }
  },
  "nbformat": 4,
  "nbformat_minor": 0
}
