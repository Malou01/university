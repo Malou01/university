{
  "cells": [
    {
      "cell_type": "markdown",
      "metadata": {
        "id": "tOoyQ70H00_s"
      },
      "source": [
        "## Упражнение 2\n",
        "Напишите классификатор MNIST, который обучается до точности 99% или выше и делает это без фиксированного числа эпох - то есть вы должны прекратить обучение, как только достигнете этого уровня точности.\n",
        "\n",
        "1. Этого надо достигнуть менее чем за 10 эпох, поэтому можно установить epoches=10, но не более.\n",
        "2. Когда точность станет 99% или больше, надо распечатать строку «Достигнута точность 99%, поэтому обучение закончено!»\n"
      ]
    },
    {
      "cell_type": "code",
      "execution_count": null,
      "metadata": {
        "id": "OmPpq7lZHw-2"
      },
      "outputs": [],
      "source": [
        "import tensorflow as tf\n",
        "#from os import path, getcwd, chdir\n",
        "\n",
        "mnist = tf.keras.datasets.mnist"
      ]
    },
    {
      "cell_type": "code",
      "execution_count": null,
      "metadata": {
        "id": "9rvXQGAA0ssC"
      },
      "outputs": [],
      "source": [
        "# YOUR CODE SHOULD START HERE\n",
        "(x_train, y_train), (x_test, y_test) = mnist.load_data()\n",
        "# YOUR CODE SHOULD END HERE\n",
        "\n",
        "# YOUR CODE SHOULD START HERE\n",
        "class MyCallback(tf.keras.callbacks.Callback):\n",
        "    def on_epoch_end(self, epoch, logs={}):\n",
        "        if logs.get('accuracy') >= 0.99:\n",
        "            print(\"\\nДостигнута точность 99%, поэтому обучение закончено!\")\n",
        "            self.model.stop_training = True\n",
        "# YOUR CODE SHOULD END HERE\n",
        "model = tf.keras.models.Sequential([\n",
        "    tf.keras.layers.Flatten(input_shape=(28, 28)),  # Входной слой (преобразование изображения в одномерный вектор)\n",
        "    tf.keras.layers.Dense(128, activation='relu'),  # Полносвязный скрытый слой\n",
        "    tf.keras.layers.Dense(10, activation='softmax') # Выходной слой с 10 нейронами (для классов от 0 до 9)\n",
        "])\n",
        "\n",
        "model.compile(optimizer='adam',\n",
        "              loss='sparse_categorical_crossentropy',\n",
        "              metrics=['accuracy'])\n",
        "\n",
        "# YOUR CODE SHOULD START HERE\n",
        "callbacks = MyCallback()\n",
        "\n",
        "history = model.fit(x_train, y_train, epochs=10, callbacks=[callbacks])\n",
        "# YOUR CODE SHOULD END HERE\n",
        "\n",
        "print(history.epoch, history.history['accuracy'][-1])"
      ]
    }
  ],
  "metadata": {
    "colab": {
      "name": "Exercise2-HandWritting.ipynb",
      "provenance": []
    },
    "coursera": {
      "course_slug": "introduction-tensorflow",
      "graded_item_id": "d6dew",
      "launcher_item_id": "FExZ4"
    },
    "kernelspec": {
      "display_name": "Python 3",
      "language": "python",
      "name": "python3"
    },
    "language_info": {
      "codemirror_mode": {
        "name": "ipython",
        "version": 3
      },
      "file_extension": ".py",
      "mimetype": "text/x-python",
      "name": "python",
      "nbconvert_exporter": "python",
      "pygments_lexer": "ipython3",
      "version": "3.6.8"
    }
  },
  "nbformat": 4,
  "nbformat_minor": 0
}
