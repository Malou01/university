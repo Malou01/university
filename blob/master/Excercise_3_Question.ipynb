{
  "cells": [
    {
      "cell_type": "markdown",
      "metadata": {
        "id": "iQjHqsmTAVLU"
      },
      "source": [
        "## Упражнение 3\n",
        "вы уже знаете, как улучшить Fashion MNIST, используя Convolutions. Теперь посмотрите, можете ли вы улучшить MNIST с точностью до 99,8% или более, используя только один сверточный слой и один MaxPooling 2D. Вам надо будет остановить процесс обучения, как только точность превысит это значение. Это должно произойти менее чем за 20 эпох, поэтому можно точно указать количество эпох для обучения, но ваше обучение должно закончиться, как только accuracy достигнет 99,8%. Если это не произойдет, то вам нужно будет изменить дизайн ваших слоев.\n",
        "\n",
        "Начало кода уже написано - вы должны закончить код\n",
        "\n",
        "Когда достигнута точность 99,8%, надо распечатать строку «достигнута точность 99,8%, поэтому обучение прервано!»"
      ]
    },
    {
      "cell_type": "code",
      "execution_count": null,
      "metadata": {
        "id": "NHKVudseU5Vk"
      },
      "outputs": [],
      "source": [
        "import tensorflow as tf\n"
      ]
    },
    {
      "cell_type": "code",
      "execution_count": null,
      "metadata": {
        "id": "tCtEvQtcU5Vr"
      },
      "outputs": [],
      "source": [
        "# Ваш код будет здесь\n",
        "mnist = tf.keras.datasets.mnist\n",
        "(training_images, training_labels), (test_images, test_labels) = mnist.load_data()\n",
        "# Ваш код закончится здесь\n",
        "\n",
        "\n",
        "# Ваш код будет здесь\n",
        "training_images = training_images.reshape((60000, 28, 28, 1)) / 255.0\n",
        "test_images = test_images.reshape((10000, 28, 28, 1)) / 255.0\n",
        "\n",
        "class MyCallback(tf.keras.callbacks.Callback):\n",
        "    def on_epoch_end(self, epoch, logs={}):\n",
        "        if logs.get('accuracy') >= 0.998:\n",
        "            print(\"\\nДостигнута точность 99,8%, поэтому обучение прервано!\")\n",
        "            self.model.stop_training = True\n",
        "# Ваш код закончится здесь\n",
        "\n",
        "model = tf.keras.models.Sequential([\n",
        "    tf.keras.layers.Conv2D(32, (3, 3), activation='relu', input_shape=(28, 28, 1)),  # Сверточный слой\n",
        "    tf.keras.layers.MaxPooling2D((2, 2)),  # Слой максимального объединения\n",
        "    tf.keras.layers.Flatten(),  # Преобразование в одномерный массив\n",
        "    tf.keras.layers.Dense(128, activation='relu'),  # Полносвязный скрытый слой\n",
        "    tf.keras.layers.Dense(10, activation='softmax')  # Выходной слой для классификации\n",
        "])\n",
        "\n",
        "model.compile(optimizer='adam', loss='sparse_categorical_crossentropy', metrics=['accuracy'])\n",
        "\n",
        "callbacks = MyCallback()\n",
        "\n",
        "history = model.fit(training_images, training_labels, epochs=20, callbacks=[callbacks])\n",
        "\n",
        "# model fitting\n",
        "print(history.epoch, history.history['accuracy'][-1])\n"
      ]
    }
  ],
  "metadata": {
    "colab": {
      "name": "Excercise-3-Question.ipynb",
      "provenance": []
    },
    "coursera": {
      "course_slug": "introduction-tensorflow",
      "graded_item_id": "ml06H",
      "launcher_item_id": "hQF8A"
    },
    "kernelspec": {
      "display_name": "Python 3",
      "language": "python",
      "name": "python3"
    },
    "language_info": {
      "codemirror_mode": {
        "name": "ipython",
        "version": 3
      },
      "file_extension": ".py",
      "mimetype": "text/x-python",
      "name": "python",
      "nbconvert_exporter": "python",
      "pygments_lexer": "ipython3",
      "version": "3.6.8"
    }
  },
  "nbformat": 4,
  "nbformat_minor": 0
}
